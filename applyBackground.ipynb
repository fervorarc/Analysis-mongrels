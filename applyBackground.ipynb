{
 "cells": [
  {
   "cell_type": "code",
   "execution_count": 11,
   "metadata": {},
   "outputs": [],
   "source": [
    "import PIL, PIL.Image\n",
    "import numpy as np\n",
    "\n",
    "def applyBackground(src, bgd, tgt):\n",
    "    def white_to_transparency(img):\n",
    "        x = np.asarray(img.convert('RGBA')).copy()\n",
    "        x[:, :, 3] = (255 * (x[:, :, :3] <= 200).any(axis=2)).astype(np.uint8)\n",
    "        return PIL.Image.fromarray(x)\n",
    "    background = PIL.Image.open(bgd).convert('RGBA').resize((2048,2048))\n",
    "    img = PIL.Image.open(src).resize((2048,2048))\n",
    "    foreground = white_to_transparency(img)\n",
    "    PIL.Image.alpha_composite(background,foreground).resize((512,512)).convert('RGB').save(tgt)\n",
    "import glob\n",
    "for f in glob.glob(\"MACtrips/Grey/88triples/*.png\"):\n",
    "    applyBackground(f,\"grey.png\", f)\n",
    "for f in glob.glob(\"MACtrips/Grey/1616triples/*.png\"):\n",
    "    applyBackground(f,\"grey.png\", f)\n",
    "for f in glob.glob(\"MACtrips/Texture/88triples/*.png\"):\n",
    "    applyBackground(f,\"texture512.png\", f)\n",
    "for f in glob.glob(\"MACtrips/Texture/1616triples/*.png\"):\n",
    "    applyBackground(f,\"texture512.png\", f)\n",
    "for f in glob.glob(\"MACtrips/Rainbow/88triples/*.png\"):\n",
    "    applyBackground(f,\"rainbow.png\", f)\n",
    "for f in glob.glob(\"MACtrips/Rainbow/1616triples/*.png\"):\n",
    "    applyBackground(f,\"rainbow.png\", f)\n",
    "\n",
    "\n",
    "\n"
   ]
  },
  {
   "cell_type": "code",
   "execution_count": null,
   "metadata": {},
   "outputs": [],
   "source": []
  },
  {
   "cell_type": "code",
   "execution_count": null,
   "metadata": {},
   "outputs": [],
   "source": []
  }
 ],
 "metadata": {
  "environment": {
   "name": "pytorch-gpu.1-4.m50",
   "type": "gcloud",
   "uri": "gcr.io/deeplearning-platform-release/pytorch-gpu.1-4:m50"
  },
  "kernelspec": {
   "display_name": "Python 3",
   "language": "python",
   "name": "python3"
  },
  "language_info": {
   "codemirror_mode": {
    "name": "ipython",
    "version": 3
   },
   "file_extension": ".py",
   "mimetype": "text/x-python",
   "name": "python",
   "nbconvert_exporter": "python",
   "pygments_lexer": "ipython3",
   "version": "3.7.6"
  }
 },
 "nbformat": 4,
 "nbformat_minor": 4
}
